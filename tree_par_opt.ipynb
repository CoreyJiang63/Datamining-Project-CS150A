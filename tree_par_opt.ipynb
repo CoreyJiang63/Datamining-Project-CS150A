{
 "cells": [
  {
   "cell_type": "code",
   "execution_count": 24,
   "metadata": {},
   "outputs": [],
   "source": [
    "import pandas as pd\n",
    "import numpy as np\n",
    "from sklearn.decomposition import PCA\n",
    "from sklearn.neural_network import MLPRegressor\n",
    "from sklearn import tree\n",
    "from sklearn.ensemble import RandomForestRegressor, AdaBoostRegressor, BaggingRegressor\n",
    "from xgboost import XGBClassifier\n",
    "from sklearn.ensemble import GradientBoostingClassifier\n",
    "from sklearn.linear_model import LogisticRegression\n",
    "from sklearn.dummy import DummyRegressor\n",
    "import lightgbm\n",
    "from sklearn import neighbors\n",
    "from sklearn.model_selection import GridSearchCV"
   ]
  },
  {
   "cell_type": "code",
   "execution_count": 25,
   "metadata": {},
   "outputs": [],
   "source": [
    "train = pd.read_csv('data/train_preprocessed.csv', sep='\\t')\n",
    "test = pd.read_csv('data/test_preprocessed.csv', sep='\\t')\n",
    "train = train.drop(['Opportunity(Default)'], axis=1)\n",
    "test = test.drop(['Opportunity(Default)'], axis=1)\n",
    "\n",
    "# Separation of dataset\n",
    "train_x = train.dropna()\n",
    "train_y = np.array(train_x['Correct First Attempt']).astype(int)\n",
    "train_x = train_x.drop(['Correct First Attempt'],axis = 1)\n",
    "test_x = test.dropna()\n",
    "test_y = np.array(test_x['Correct First Attempt']).astype(int)\n",
    "test_x = test_x.drop(['Correct First Attempt'],axis = 1)"
   ]
  },
  {
   "cell_type": "code",
   "execution_count": 26,
   "metadata": {},
   "outputs": [],
   "source": [
    "def loss_function(ypred, y):\n",
    "    distance = np.square(np.subtract(ypred, y))\n",
    "    avg = np.mean(distance)\n",
    "    return np.sqrt(avg)"
   ]
  },
  {
   "cell_type": "code",
   "execution_count": 27,
   "metadata": {},
   "outputs": [],
   "source": [
    "def normalize(x):\n",
    "    norm = np.linalg.norm(x, ord=2, axis=1, keepdims=True)\n",
    "    return x/norm\n",
    "\n",
    "drop_cols = ['Anon Student Id', 'Problem Name', 'Problem Unit', 'Problem Section', 'Step Name']\n",
    "tmp_train = train_x.drop(drop_cols, axis=1)\n",
    "tmp_test = test_x.drop(drop_cols, axis=1)\n",
    "train_norm_x = normalize(tmp_train)\n",
    "test_norm_x = normalize(tmp_test)\n",
    "for c in drop_cols:\n",
    "    train_norm_x[c] = train_x[c]\n",
    "    test_norm_x[c] = test_x[c]"
   ]
  },
  {
   "cell_type": "code",
   "execution_count": 29,
   "metadata": {},
   "outputs": [
    {
     "name": "stdout",
     "output_type": "stream",
     "text": [
      "optimze decision tree error is 0.450225\n",
      "best parameters {'criterion': 'entropy', 'max_depth': 14, 'min_samples_leaf': 7, 'splitter': 'best'}\n"
     ]
    }
   ],
   "source": [
    "# decision tree optimize\n",
    "\n",
    "max_depth = range(5, 20)\n",
    "min_samples_leaf = range(1, 9, 2)\n",
    "tree_para = {'criterion':['gini','entropy'], 'splitter':['best', 'random'], 'max_depth':max_depth, 'min_samples_leaf':min_samples_leaf}\n",
    "model = GridSearchCV(tree.DecisionTreeClassifier(), tree_para, n_jobs=-1)\n",
    "model.fit(train_norm_x, train_y)\n",
    "result = model.predict(test_norm_x)\n",
    "print(\"optimze decision tree error is %f\" % loss_function(result, test_y))\n",
    "print(\"best parameters\", model.best_params_ )\n",
    "\n"
   ]
  },
  {
   "cell_type": "code",
   "execution_count": null,
   "metadata": {},
   "outputs": [],
   "source": []
  }
 ],
 "metadata": {
  "kernelspec": {
   "display_name": "Python 3 (ipykernel)",
   "language": "python",
   "name": "python3"
  },
  "language_info": {
   "codemirror_mode": {
    "name": "ipython",
    "version": 3
   },
   "file_extension": ".py",
   "mimetype": "text/x-python",
   "name": "python",
   "nbconvert_exporter": "python",
   "pygments_lexer": "ipython3",
   "version": "3.9.12"
  },
  "vscode": {
   "interpreter": {
    "hash": "aee8b7b246df8f9039afb4144a1f6fd8d2ca17a180786b69acc140d282b71a49"
   }
  }
 },
 "nbformat": 4,
 "nbformat_minor": 2
}
