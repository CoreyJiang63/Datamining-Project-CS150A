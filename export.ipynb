{
 "cells": [
  {
   "cell_type": "code",
   "execution_count": 11,
   "metadata": {},
   "outputs": [],
   "source": [
    "import pandas as pd\n",
    "import numpy as np\n",
    "from sklearn.decomposition import PCA\n",
    "from sklearn.neural_network import MLPRegressor\n",
    "from sklearn import tree\n",
    "from sklearn.ensemble import RandomForestRegressor, AdaBoostRegressor, BaggingRegressor\n",
    "from xgboost import XGBClassifier\n",
    "from sklearn.ensemble import GradientBoostingClassifier\n",
    "from sklearn.linear_model import LogisticRegression\n",
    "from sklearn.dummy import DummyRegressor\n",
    "import lightgbm\n",
    "from sklearn import neighbors\n",
    "from sklearn.model_selection import GridSearchCV"
   ]
  },
  {
   "cell_type": "code",
   "execution_count": 12,
   "metadata": {},
   "outputs": [],
   "source": [
    "train = pd.read_csv('data/train_preprocessed.csv', sep='\\t')\n",
    "test = pd.read_csv('data/test_preprocessed.csv', sep='\\t')\n",
    "train = train.drop(['Opportunity(Default)'], axis=1)\n",
    "test = test.drop(['Opportunity(Default)'], axis=1)\n",
    "\n",
    "# Separation of dataset\n",
    "train_x = train.dropna()\n",
    "train_y = np.array(train_x['Correct First Attempt']).astype(int)\n",
    "train_x = train_x.drop(['Correct First Attempt'],axis = 1)\n",
    "test_x = test\n",
    "test_y = np.array(test_x['Correct First Attempt']).astype(float)\n",
    "test_x = test_x.drop(['Correct First Attempt'], axis=1)"
   ]
  },
  {
   "cell_type": "code",
   "execution_count": 13,
   "metadata": {},
   "outputs": [],
   "source": [
    "model = RandomForestRegressor(n_estimators=260, max_depth=18, max_leaf_nodes=1100,min_samples_split=14)\n",
    "model.fit(train_x, train_y)\n",
    "result = model.predict(test_x)\n",
    "for index, val in enumerate(test_y):\n",
    "    if np.isnan(val):\n",
    "        test_y[index] = result[index]\n",
    "result_test = pd.read_csv('./test.csv', sep='\\t')\n",
    "result_test['Correct First Attempt'] = test_y\n",
    "result_test.to_csv('new_test.csv', sep='\\t', index=False)"
   ]
  }
 ],
 "metadata": {
  "kernelspec": {
   "display_name": "Python 3 (ipykernel)",
   "language": "python",
   "name": "python3"
  },
  "language_info": {
   "codemirror_mode": {
    "name": "ipython",
    "version": 3
   },
   "file_extension": ".py",
   "mimetype": "text/x-python",
   "name": "python",
   "nbconvert_exporter": "python",
   "pygments_lexer": "ipython3",
   "version": "3.8.6 (v3.8.6:db455296be, Sep 23 2020, 13:31:39) \n[Clang 6.0 (clang-600.0.57)]"
  },
  "vscode": {
   "interpreter": {
    "hash": "aee8b7b246df8f9039afb4144a1f6fd8d2ca17a180786b69acc140d282b71a49"
   }
  }
 },
 "nbformat": 4,
 "nbformat_minor": 2
}
