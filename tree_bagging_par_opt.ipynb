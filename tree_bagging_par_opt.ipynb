{
 "cells": [
  {
   "cell_type": "code",
   "execution_count": 53,
   "metadata": {},
   "outputs": [],
   "source": [
    "import pandas as pd\n",
    "import numpy as np\n",
    "from sklearn.decomposition import PCA\n",
    "from sklearn.neural_network import MLPRegressor\n",
    "from sklearn import tree\n",
    "from sklearn.ensemble import RandomForestRegressor, AdaBoostRegressor, BaggingRegressor\n",
    "from xgboost import XGBClassifier\n",
    "from sklearn.ensemble import GradientBoostingClassifier\n",
    "from sklearn.linear_model import LogisticRegression\n",
    "from sklearn.dummy import DummyRegressor\n",
    "import lightgbm\n",
    "from sklearn import neighbors\n",
    "from sklearn.model_selection import GridSearchCV"
   ]
  },
  {
   "cell_type": "code",
   "execution_count": 54,
   "metadata": {},
   "outputs": [],
   "source": [
    "train = pd.read_csv('data/train_preprocessed.csv', sep='\\t')\n",
    "test = pd.read_csv('data/test_preprocessed.csv', sep='\\t')\n",
    "train = train.drop(['Opportunity(Default)'], axis=1)\n",
    "test = test.drop(['Opportunity(Default)'], axis=1)\n",
    "\n",
    "# Separation of dataset\n",
    "train_x = train.dropna()\n",
    "train_y = np.array(train_x['Correct First Attempt']).astype(int)\n",
    "train_x = train_x.drop(['Correct First Attempt'],axis = 1)\n",
    "test_x = test.dropna()\n",
    "test_y = np.array(test_x['Correct First Attempt']).astype(int)\n",
    "test_x = test_x.drop(['Correct First Attempt'],axis = 1)"
   ]
  },
  {
   "cell_type": "code",
   "execution_count": 55,
   "metadata": {},
   "outputs": [],
   "source": [
    "def loss_function(ypred, y):\n",
    "    distance = np.square(np.subtract(ypred, y))\n",
    "    avg = np.mean(distance)\n",
    "    return np.sqrt(avg)"
   ]
  },
  {
   "cell_type": "code",
   "execution_count": 56,
   "metadata": {},
   "outputs": [],
   "source": [
    "def normalize(x):\n",
    "    norm = np.linalg.norm(x, ord=2, axis=1, keepdims=True)\n",
    "    return x/norm\n",
    "\n",
    "drop_cols = ['Anon Student Id', 'Problem Name', 'Problem Unit', 'Problem Section', 'Step Name']\n",
    "tmp_train = train_x.drop(drop_cols, axis=1)\n",
    "tmp_test = test_x.drop(drop_cols, axis=1)\n",
    "train_norm_x = normalize(tmp_train)\n",
    "test_norm_x = normalize(tmp_test)\n",
    "for c in drop_cols:\n",
    "    train_norm_x[c] = train_x[c]\n",
    "    test_norm_x[c] = test_x[c]"
   ]
  },
  {
   "cell_type": "code",
   "execution_count": 57,
   "metadata": {},
   "outputs": [
    {
     "name": "stdout",
     "output_type": "stream",
     "text": [
      "optimze decision tree error is 0.363042\n",
      "best parameters {'max_samples': 0.6}\n"
     ]
    }
   ],
   "source": [
    "# decision tree optimize\n",
    "\n",
    "n_estimators = range(150,300,50)\n",
    "max_samples = [0.5,0.6]\n",
    "tree_bagging_para = {'max_samples':max_samples}\n",
    "model = GridSearchCV(BaggingRegressor(base_estimator=tree.DecisionTreeClassifier(),n_estimators = 250), tree_bagging_para, n_jobs=-1)\n",
    "model.fit(train_norm_x, train_y)  \n",
    "result = model.predict(test_norm_x)\n",
    "print(\"optimze decision tree error is %f\" % loss_function(result, test_y))\n",
    "print(\"best parameters\", model.best_params_ )\n",
    "\n"
   ]
  }
 ],
 "metadata": {
  "kernelspec": {
   "display_name": "Python 3 (ipykernel)",
   "language": "python",
   "name": "python3"
  },
  "language_info": {
   "codemirror_mode": {
    "name": "ipython",
    "version": 3
   },
   "file_extension": ".py",
   "mimetype": "text/x-python",
   "name": "python",
   "nbconvert_exporter": "python",
   "pygments_lexer": "ipython3",
   "version": "3.9.12"
  },
  "vscode": {
   "interpreter": {
    "hash": "aee8b7b246df8f9039afb4144a1f6fd8d2ca17a180786b69acc140d282b71a49"
   }
  }
 },
 "nbformat": 4,
 "nbformat_minor": 2
}
